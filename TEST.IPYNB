{
 "cells": [
  {
   "cell_type": "code",
   "execution_count": 4,
   "id": "20e395b0",
   "metadata": {},
   "outputs": [
    {
     "name": "stdout",
     "output_type": "stream",
     "text": [
      "Matplotlib will use font family → SimHei\n"
     ]
    },
    {
     "data": {
      "image/png": "[encoded data removed]",
      "text/plain": [
       "<Figure size 400x200 with 1 Axes>"
      ]
     },
     "metadata": {},
     "output_type": "display_data"
    }
   ],
   "source": [
    "# ── Cell 1: imports & style ───────────────────────────────────────────\n",
    "import warnings\n",
    "import matplotlib.pyplot as plt\n",
    "import seaborn as sns\n",
    "import matplotlib.font_manager as fm\n",
    "\n",
    "# 1) Apply your style *first*\n",
    "sns.set_style(\"whitegrid\")      # or plt.style.use('seaborn-v0_8-whitegrid')\n",
    "\n",
    "# 2) Silence the missing-glyph warnings\n",
    "warnings.filterwarnings(\n",
    "    \"ignore\",\n",
    "    message=\"Glyph.*missing from current font\",\n",
    "    category=UserWarning,\n",
    ")\n",
    "\n",
    "# ── Cell 2: register SimHei & set rcParams ───────────────────────────\n",
    "# (this must run *after* your style call above)\n",
    "font_path = r\"C:\\Windows\\Fonts\\simhei.ttf\"\n",
    "fm.fontManager.addfont(font_path)\n",
    "\n",
    "# discover the exact internal font name:\n",
    "prop = fm.FontProperties(fname=font_path)\n",
    "font_name = prop.get_name()    \n",
    "print(\"Matplotlib will use font family →\", font_name)\n",
    "\n",
    "# now tell matplotlib to use it everywhere:\n",
    "plt.rcParams[\"font.family\"]        = font_name\n",
    "plt.rcParams[\"axes.unicode_minus\"] = False\n",
    "\n",
    "# ── Cell 3: quick sanity check ────────────────────────────────────────\n",
    "from matplotlib.font_manager import FontProperties\n",
    "\n",
    "prop = FontProperties(fname=font_path)\n",
    "plt.figure(figsize=(4,2))\n",
    "plt.text(0.5, 0.5, \"测试一下：中文 should 正常显示\", \n",
    "         ha=\"center\", va=\"center\", \n",
    "         fontproperties=prop, fontsize=18)\n",
    "plt.axis(\"off\")\n",
    "plt.show()\n"
   ]
  }
 ],
 "metadata": {
  "kernelspec": {
   "display_name": "base",
   "language": "python",
   "name": "python3"
  },
  "language_info": {
   "codemirror_mode": {
    "name": "ipython",
    "version": 3
   },
   "file_extension": ".py",
   "mimetype": "text/x-python",
   "name": "python",
   "nbconvert_exporter": "python",
   "pygments_lexer": "ipython3",
   "version": "3.12.4"
  }
 },
 "nbformat": 4,
 "nbformat_minor": 5
}
